{
 "cells": [
  {
   "cell_type": "code",
   "execution_count": 1,
   "metadata": {},
   "outputs": [
    {
     "name": "stderr",
     "output_type": "stream",
     "text": [
      "/anaconda3/lib/python3.7/site-packages/psycopg2/__init__.py:144: UserWarning: The psycopg2 wheel package will be renamed from release 2.8; in order to keep installing from binary please use \"pip install psycopg2-binary\" instead. For details see: <http://initd.org/psycopg/docs/install.html#binary-install-from-pypi>.\n",
      "  \"\"\")\n"
     ]
    }
   ],
   "source": [
    "import requests\n",
    "import json\n",
    "import psycopg2"
   ]
  },
  {
   "cell_type": "code",
   "execution_count": 3,
   "metadata": {},
   "outputs": [],
   "source": [
    "token = {'access_token': 'BQB5wrlrT3dKZRyZ-CWZb77UPz8_9La6Q8xPRLVbL25yB8LKC-RyN3fEGpZqS8xanl-u0w9ONZOXbNJcdmTNryJ5MG8N5qK5r5jUZy73XsmSKXe3Sg6SjUKwfhKqDEJi3nK-HFO1oRN5qzj9rSPVx1uRv8f87P1XtO-1-GRXmbgx27Sc2N0FSOSZtWZfMq8S-Mj-xO_Rbw', 'token_type': 'Bearer', 'expires_in': 3600, 'refresh_token': 'AQCrNGlJ24IV735HICMXhO5UxhGCTduj45qWzw8LWogQhYqUdMEUAsIdQEw9J9dhMpPXoIKfWn1z-ZCSN9Py2gAeg8llnka7_h11OJ0M3jkDNplVRHMkEHBY4Kx-GAJ4opa5qQ', 'scope': 'playlist-read-private playlist-modify-public user-read-private'}"
   ]
  },
  {
   "cell_type": "code",
   "execution_count": 5,
   "metadata": {},
   "outputs": [],
   "source": [
    "header = {'Authorization':f\"Bearer {token['access_token']}\",'Content-Type':'application/json'}\n"
   ]
  },
  {
   "cell_type": "code",
   "execution_count": 7,
   "metadata": {},
   "outputs": [],
   "source": [
    "discover_id = '37i9dQZEVXcNsFc2dTdYkP'"
   ]
  },
  {
   "cell_type": "code",
   "execution_count": 67,
   "metadata": {},
   "outputs": [],
   "source": [
    "discover_forever_id = '0GUrxoWirTrFWygy2tF2dh'\n",
    "tracks = requests.get(url=f'https://api.spotify.com/v1/playlists/{discover_id}/tracks',headers=header).json()\n"
   ]
  },
  {
   "cell_type": "code",
   "execution_count": 59,
   "metadata": {},
   "outputs": [],
   "source": [
    "track_ids = []\n",
    "for track in tracks['items']:\n",
    "    track_ids.append(track['track']['uri'])"
   ]
  },
  {
   "cell_type": "code",
   "execution_count": 62,
   "metadata": {},
   "outputs": [],
   "source": [
    "tracks_body = {'uris':track_ids}"
   ]
  },
  {
   "cell_type": "code",
   "execution_count": 71,
   "metadata": {},
   "outputs": [],
   "source": [
    "add_songs_requests = requests.post(f'https://api.spotify.com/v1/playlists/{discover_forever_id}/tracks',\n",
    "                                   headers=header,\n",
    "                                   data=json.dumps(tracks_body)).json()"
   ]
  },
  {
   "cell_type": "code",
   "execution_count": 73,
   "metadata": {},
   "outputs": [
    {
     "data": {
      "text/plain": [
       "{'snapshot_id': 'MyxjMjVkOGZhNWRjZjY5MDI5OWMzYmJhYzNmNWNjZmVmMWJkMWFhZDg5'}"
      ]
     },
     "execution_count": 73,
     "metadata": {},
     "output_type": "execute_result"
    }
   ],
   "source": [
    "add_songs_requests"
   ]
  },
  {
   "cell_type": "code",
   "execution_count": 42,
   "metadata": {},
   "outputs": [
    {
     "data": {
      "text/plain": [
       "'9 Preludes, Op. 1: No. 1, Andante ma non troppo'"
      ]
     },
     "execution_count": 42,
     "metadata": {},
     "output_type": "execute_result"
    }
   ],
   "source": [
    "tracks['items'][0]['track']['name']\n"
   ]
  },
  {
   "cell_type": "code",
   "execution_count": null,
   "metadata": {},
   "outputs": [],
   "source": [
    "auth_url = 'https://accounts.spotify.com/authorize?client_id=2b18dda2b5d445e4ae09f6df7f10df8a&response_type=token&redirect_uri=http://localhost:5000/auth&scope=playlist-read-private,user-read-private'"
   ]
  },
  {
   "cell_type": "code",
   "execution_count": 47,
   "metadata": {},
   "outputs": [
    {
     "data": {
      "text/plain": [
       "'3wuZbdGbM5nDwgmBk7OpvT'"
      ]
     },
     "execution_count": 47,
     "metadata": {},
     "output_type": "execute_result"
    }
   ],
   "source": [
    "tracks['items'][0]['track']['id']"
   ]
  },
  {
   "cell_type": "code",
   "execution_count": null,
   "metadata": {},
   "outputs": [],
   "source": []
  },
  {
   "cell_type": "code",
   "execution_count": null,
   "metadata": {},
   "outputs": [],
   "source": [
    "token = 'BQB1JAAqomVeqvUcJDI-6ptcZDkNTTbdeC4R1JavMbxRpqYiQvrzmf4Dd0AyU4-2kWQZHqoGjN_wYAeuSQokGa932DIwd9BJV6ikSysTFgqcVybCKpkxA7Uz43lf5ylyH4yUd_5TE4te79JRoZ--8BfMlFvQUpYxAvxaxH8tqw'"
   ]
  },
  {
   "cell_type": "code",
   "execution_count": null,
   "metadata": {},
   "outputs": [],
   "source": [
    "headers = {'Authorization':f'Bearer {token}'}"
   ]
  },
  {
   "cell_type": "code",
   "execution_count": null,
   "metadata": {},
   "outputs": [],
   "source": [
    "me = \n",
    "requests.get(url='https://api.spotify.com/v1/me',headers=headers).json()\n",
    "me"
   ]
  },
  {
   "cell_type": "code",
   "execution_count": null,
   "metadata": {},
   "outputs": [],
   "source": [
    "spotify_id = me['id']\n",
    "name = me['display_name']"
   ]
  },
  {
   "cell_type": "code",
   "execution_count": null,
   "metadata": {},
   "outputs": [],
   "source": [
    "spotify_id\n"
   ]
  },
  {
   "cell_type": "code",
   "execution_count": null,
   "metadata": {},
   "outputs": [],
   "source": [
    "user_id = 'davidrinny'"
   ]
  },
  {
   "cell_type": "code",
   "execution_count": null,
   "metadata": {},
   "outputs": [],
   "source": [
    "playlists = requests.get(url=f'https://api.spotify.com/v1/users/{user_id}/playlists',headers=headers)"
   ]
  },
  {
   "cell_type": "code",
   "execution_count": null,
   "metadata": {},
   "outputs": [],
   "source": [
    "for playlist in playlists.json()['items']:\n",
    "    if playlist['name'] == 'Discover Weekly':\n",
    "        print(playlist['id'])"
   ]
  },
  {
   "cell_type": "code",
   "execution_count": null,
   "metadata": {},
   "outputs": [],
   "source": [
    "\n",
    "conn = psycopg2.connect(dbname='postgres',user='postgres',host='127.0.0.1', port=5432,password=pw)\n"
   ]
  },
  {
   "cell_type": "code",
   "execution_count": null,
   "metadata": {},
   "outputs": [],
   "source": [
    "conn = psycopg2.connect(dbname='postgres',user='postgres',host='127.0.0.1', port=5432,password=pw)\n",
    "\n",
    "curr = conn.cursor()\n",
    "curr.execute(\"\"\"INSERT into spotify.users(spotify_id,name,spotify_token) values\n",
    "             ('davidrinny','davidrinny','BQB1JAAqomVeqvUcJDI-6ptcZDkNTTbdeC4R1JavMbxRpqYiQvrzmf4Dd0AyU4-2kWQZHqoGjN_wYAeuSQokGa932DIwd9BJV6ikSysTFgqcVybCKpkxA7Uz43lf5ylyH4yUd_5TE4te79JRoZ--8BfMlFvQUpYxAvxaxH8tqw')\"\"\")\n",
    "conn.commit()\n",
    "resp"
   ]
  },
  {
   "cell_type": "code",
   "execution_count": null,
   "metadata": {},
   "outputs": [],
   "source": [
    "curr."
   ]
  }
 ],
 "metadata": {
  "kernelspec": {
   "display_name": "Python 3",
   "language": "python",
   "name": "python3"
  },
  "language_info": {
   "codemirror_mode": {
    "name": "ipython",
    "version": 3
   },
   "file_extension": ".py",
   "mimetype": "text/x-python",
   "name": "python",
   "nbconvert_exporter": "python",
   "pygments_lexer": "ipython3",
   "version": "3.7.0"
  }
 },
 "nbformat": 4,
 "nbformat_minor": 2
}
